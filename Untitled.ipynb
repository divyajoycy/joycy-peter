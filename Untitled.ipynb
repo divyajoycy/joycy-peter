{
 "cells": [
  {
   "cell_type": "code",
   "execution_count": 1,
   "id": "478f6bc4-0781-427f-99b5-6aae8ad9f5a2",
   "metadata": {},
   "outputs": [
    {
     "name": "stdout",
     "output_type": "stream",
     "text": [
      "git demo\n"
     ]
    }
   ],
   "source": [
    "print(\"git demo\")"
   ]
  },
  {
   "cell_type": "code",
   "execution_count": null,
   "id": "351d1774-1d1b-411b-afeb-5c1a3f6ff664",
   "metadata": {},
   "outputs": [],
   "source": []
  },
  {
   "cell_type": "code",
   "execution_count": null,
   "id": "6fcb6aac-7e7f-42dd-9d3b-380b612b4305",
   "metadata": {},
   "outputs": [],
   "source": []
  }
 ],
 "metadata": {
  "kernelspec": {
   "display_name": "Python [conda env:base] *",
   "language": "python",
   "name": "conda-base-py"
  },
  "language_info": {
   "codemirror_mode": {
    "name": "ipython",
    "version": 3
   },
   "file_extension": ".py",
   "mimetype": "text/x-python",
   "name": "python",
   "nbconvert_exporter": "python",
   "pygments_lexer": "ipython3",
   "version": "3.12.4"
  }
 },
 "nbformat": 4,
 "nbformat_minor": 5
}
